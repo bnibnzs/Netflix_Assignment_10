{
  "cells": [
    {
      "cell_type": "markdown",
      "metadata": {
        "id": "D1xKObCkGO6q"
      },
      "source": [
        "# Instructions"
      ]
    },
    {
      "cell_type": "markdown",
      "metadata": {
        "id": "x2qTgButGO6z"
      },
      "source": [
        "Read each question carefully and provide an appropriate answer in the following cells. Depending on the question, you may need to provide code or a text submission. **Be sure to label your answers with the question number for easy identification!**"
      ]
    },
    {
      "cell_type": "markdown",
      "metadata": {
        "id": "J9dEHCqeGO61"
      },
      "source": [
        "**Question 1: Which of the following statements is an example of a classification problem? (2 points)**\n",
        "\n",
        "A. Apartment Price Prediction \n",
        "\n",
        "B. Customer Churn Prediction\n",
        "\n",
        "C. Inventory Volume Forecasting\n",
        "\n",
        "D. Electric Power Consumption Prediction"
      ]
    },
    {
      "cell_type": "code",
      "execution_count": null,
      "metadata": {
        "id": "oKF7R6DdGO63"
      },
      "outputs": [],
      "source": [
        "B. Customer Churn Prediction"
      ]
    },
    {
      "cell_type": "markdown",
      "metadata": {
        "id": "fwm5VgkhGO65"
      },
      "source": [
        "**Question 2: Add to the code block below where indicated to create training and testing datasets. Then create, fit, predict, and score a Logistic Regression model object to predict the target `is_promoted`. (8 points)**"
      ]
    },
    {
      "cell_type": "code",
      "execution_count": 2,
      "metadata": {
        "colab": {
          "base_uri": "https://localhost:8080/"
        },
        "id": "SUx0dWCYGO66",
        "outputId": "e2304de0-c8f9-4984-d2d2-4b9635158d2b"
      },
      "outputs": [
        {
          "output_type": "stream",
          "name": "stdout",
          "text": [
            "Model score: 0.9163584052609947\n"
          ]
        }
      ],
      "source": [
        "# Dependencies\n",
        "from sklearn import datasets\n",
        "from sklearn.linear_model import LogisticRegression \n",
        "from sklearn.model_selection import train_test_split\n",
        "from sklearn.metrics import accuracy_score\n",
        "import pandas as pd\n",
        "import matplotlib.pyplot as plt\n",
        "\n",
        "# Import Data\n",
        "df = pd.read_csv('promotion_data.csv')\n",
        "\n",
        "### YOUR CODE HERE\n",
        "X = df.drop(columns = ['is_promoted'])    # Independent variables\n",
        "y = df['is_promoted']                     # Dependent variable\n",
        "# Train and test data sets\n",
        "X_train, X_test, y_train, y_test = train_test_split(X, y, test_size = 0.2, random_state = 42)\n",
        "#Create and fit model\n",
        "promotion_model = LogisticRegression(solver = 'liblinear')\n",
        "promotion_model.fit(X_train, y_train)\n",
        "#Predict the values of the test data\n",
        "y_predict = promotion_model.predict(X_test)\n",
        "# Score the model\n",
        "print(f'Model score: {accuracy_score(y_test, y_predict)}')"
      ]
    },
    {
      "cell_type": "code",
      "source": [
        "df.head()"
      ],
      "metadata": {
        "colab": {
          "base_uri": "https://localhost:8080/",
          "height": 226
        },
        "id": "HEN5nMTxHHh6",
        "outputId": "ee9750cb-cd12-406d-8942-4ae6b8cf9dad"
      },
      "execution_count": 3,
      "outputs": [
        {
          "output_type": "execute_result",
          "data": {
            "text/html": [
              "<div>\n",
              "<style scoped>\n",
              "    .dataframe tbody tr th:only-of-type {\n",
              "        vertical-align: middle;\n",
              "    }\n",
              "\n",
              "    .dataframe tbody tr th {\n",
              "        vertical-align: top;\n",
              "    }\n",
              "\n",
              "    .dataframe thead th {\n",
              "        text-align: right;\n",
              "    }\n",
              "</style>\n",
              "<table border=\"1\" class=\"dataframe\">\n",
              "  <thead>\n",
              "    <tr style=\"text-align: right;\">\n",
              "      <th></th>\n",
              "      <th>education</th>\n",
              "      <th>gender</th>\n",
              "      <th>recruitment_channel</th>\n",
              "      <th>no_of_trainings</th>\n",
              "      <th>age</th>\n",
              "      <th>previous_year_rating</th>\n",
              "      <th>length_of_service</th>\n",
              "      <th>awards_won?</th>\n",
              "      <th>avg_training_score</th>\n",
              "      <th>is_promoted</th>\n",
              "    </tr>\n",
              "  </thead>\n",
              "  <tbody>\n",
              "    <tr>\n",
              "      <th>0</th>\n",
              "      <td>2.0</td>\n",
              "      <td>2.0</td>\n",
              "      <td>2.0</td>\n",
              "      <td>1</td>\n",
              "      <td>35</td>\n",
              "      <td>5.0</td>\n",
              "      <td>8</td>\n",
              "      <td>0</td>\n",
              "      <td>49</td>\n",
              "      <td>0</td>\n",
              "    </tr>\n",
              "    <tr>\n",
              "      <th>1</th>\n",
              "      <td>1.0</td>\n",
              "      <td>1.0</td>\n",
              "      <td>1.0</td>\n",
              "      <td>1</td>\n",
              "      <td>30</td>\n",
              "      <td>5.0</td>\n",
              "      <td>4</td>\n",
              "      <td>0</td>\n",
              "      <td>60</td>\n",
              "      <td>0</td>\n",
              "    </tr>\n",
              "    <tr>\n",
              "      <th>2</th>\n",
              "      <td>1.0</td>\n",
              "      <td>1.0</td>\n",
              "      <td>1.0</td>\n",
              "      <td>1</td>\n",
              "      <td>34</td>\n",
              "      <td>3.0</td>\n",
              "      <td>7</td>\n",
              "      <td>0</td>\n",
              "      <td>50</td>\n",
              "      <td>0</td>\n",
              "    </tr>\n",
              "    <tr>\n",
              "      <th>3</th>\n",
              "      <td>1.0</td>\n",
              "      <td>1.0</td>\n",
              "      <td>1.0</td>\n",
              "      <td>2</td>\n",
              "      <td>39</td>\n",
              "      <td>1.0</td>\n",
              "      <td>10</td>\n",
              "      <td>0</td>\n",
              "      <td>50</td>\n",
              "      <td>0</td>\n",
              "    </tr>\n",
              "    <tr>\n",
              "      <th>4</th>\n",
              "      <td>1.0</td>\n",
              "      <td>1.0</td>\n",
              "      <td>1.0</td>\n",
              "      <td>1</td>\n",
              "      <td>45</td>\n",
              "      <td>3.0</td>\n",
              "      <td>2</td>\n",
              "      <td>0</td>\n",
              "      <td>73</td>\n",
              "      <td>0</td>\n",
              "    </tr>\n",
              "  </tbody>\n",
              "</table>\n",
              "</div>"
            ],
            "text/plain": [
              "   education  gender  ...  avg_training_score  is_promoted\n",
              "0        2.0     2.0  ...                  49            0\n",
              "1        1.0     1.0  ...                  60            0\n",
              "2        1.0     1.0  ...                  50            0\n",
              "3        1.0     1.0  ...                  50            0\n",
              "4        1.0     1.0  ...                  73            0\n",
              "\n",
              "[5 rows x 10 columns]"
            ]
          },
          "metadata": {},
          "execution_count": 3
        }
      ]
    },
    {
      "cell_type": "markdown",
      "metadata": {
        "id": "wT1bIopOGO69"
      },
      "source": [
        "**Question 3: Using the model created in question 2, plot a Confusion Matrix. (4 points)**"
      ]
    },
    {
      "cell_type": "code",
      "execution_count": 8,
      "metadata": {
        "colab": {
          "base_uri": "https://localhost:8080/",
          "height": 351
        },
        "id": "O27DM3VPGO6_",
        "outputId": "98ab22de-b584-4a99-998e-83e0172933e3"
      },
      "outputs": [
        {
          "output_type": "stream",
          "name": "stderr",
          "text": [
            "/usr/local/lib/python3.7/dist-packages/sklearn/utils/deprecation.py:87: FutureWarning: Function plot_confusion_matrix is deprecated; Function `plot_confusion_matrix` is deprecated in 1.0 and will be removed in 1.2. Use one of the class methods: ConfusionMatrixDisplay.from_predictions or ConfusionMatrixDisplay.from_estimator.\n",
            "  warnings.warn(msg, category=FutureWarning)\n"
          ]
        },
        {
          "output_type": "execute_result",
          "data": {
            "text/plain": [
              "<sklearn.metrics._plot.confusion_matrix.ConfusionMatrixDisplay at 0x7f56b31a6d10>"
            ]
          },
          "metadata": {},
          "execution_count": 8
        },
        {
          "output_type": "display_data",
          "data": {
            "image/png": "[encoded data removed]",
            "text/plain": [
              "<Figure size 432x288 with 2 Axes>"
            ]
          },
          "metadata": {
            "needs_background": "light"
          }
        }
      ],
      "source": [
        "from sklearn.metrics import plot_confusion_matrix\n",
        "\n",
        "### YOUR CODE HERE\n",
        "plot_confusion_matrix(promotion_model, X_test, y_test, cmap = plt.cm.BuPu)"
      ]
    },
    {
      "cell_type": "markdown",
      "metadata": {
        "id": "cmdX-zebGO7B"
      },
      "source": [
        "**Question 4: Using the model created in question 2, print a Classification Report. (4 points)**"
      ]
    },
    {
      "cell_type": "code",
      "execution_count": 5,
      "metadata": {
        "colab": {
          "base_uri": "https://localhost:8080/"
        },
        "id": "eV-EoMFjGO7C",
        "outputId": "8645927e-4898-4668-a64c-7d28f5430858"
      },
      "outputs": [
        {
          "output_type": "stream",
          "name": "stdout",
          "text": [
            "              precision    recall  f1-score   support\n",
            "\n",
            "Not Promoted       0.92      1.00      0.96      8865\n",
            "    Promoted       0.80      0.08      0.15       867\n",
            "\n",
            "    accuracy                           0.92      9732\n",
            "   macro avg       0.86      0.54      0.55      9732\n",
            "weighted avg       0.91      0.92      0.88      9732\n",
            "\n"
          ]
        }
      ],
      "source": [
        "from sklearn.metrics import classification_report\n",
        "\n",
        "### YOUR CODE HERE\n",
        "print(classification_report(y_test, y_predict, target_names = ['Not Promoted', 'Promoted'] ))"
      ]
    },
    {
      "cell_type": "markdown",
      "metadata": {
        "id": "xH9Xhk4aGO7E"
      },
      "source": [
        "**Question 5: Which one of the following concepts can we use to reduce the dimensionality of our dataset through the creation of combination features? (2 points):**\n",
        "\n",
        "A. Variable Inflation Factor\n",
        "\n",
        "B. Eigendecomposition \n",
        "\n",
        "C. Principal Component Analysis\n",
        "\n",
        "D. Analysis of Variance"
      ]
    },
    {
      "cell_type": "code",
      "execution_count": null,
      "metadata": {
        "id": "RXjr1i9AGO7F"
      },
      "outputs": [],
      "source": [
        "C. Principal Component Analysis"
      ]
    }
  ],
  "metadata": {
    "kernelspec": {
      "display_name": "Python 3",
      "language": "python",
      "name": "python3"
    },
    "language_info": {
      "codemirror_mode": {
        "name": "ipython",
        "version": 3
      },
      "file_extension": ".py",
      "mimetype": "text/x-python",
      "name": "python",
      "nbconvert_exporter": "python",
      "pygments_lexer": "ipython3",
      "version": "3.6.8"
    },
    "colab": {
      "name": "Unit_9_Assessment.ipynb",
      "provenance": []
    }
  },
  "nbformat": 4,
  "nbformat_minor": 0
}